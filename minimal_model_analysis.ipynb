{
 "cells": [
  {
   "cell_type": "markdown",
   "id": "e3248366",
   "metadata": {},
   "source": [
    "# Minimal Model Analysis"
   ]
  },
  {
   "cell_type": "code",
   "execution_count": 1,
   "id": "82c3e0cc",
   "metadata": {},
   "outputs": [],
   "source": [
    "#Import libraries and modules\n",
    "\n",
    "#from ipynb.fs.defs.data_processing import Yan_NN_data\n",
    "#from ipynb.fs.defs.data_processing import Yan_data_Clean\n",
    "#from ipynb.fs.defs.data_processing import keep_tot_stat\n",
    "#from ipynb.fs.defs.data_processing import nan_to_zero\n",
    "\n",
    "import time\n",
    "import pandas as pd\n",
    "import dill\n",
    "\n",
    "import numpy as np\n",
    "import math\n",
    "import matplotlib.pyplot as plt\n",
    "\n",
    "from sklearn.model_selection import train_test_split\n",
    "from sklearn.linear_model import LinearRegression\n",
    "from sklearn import metrics\n",
    "from sklearn.neural_network import MLPRegressor\n",
    "from sklearn.metrics import r2_score\n",
    "\n",
    "import tensorflow as tf\n",
    "#import autokeras as ak\n",
    "\n",
    "from tensorflow import keras\n",
    "from tensorflow.keras import layers\n",
    "from keras.models import Sequential\n",
    "from keras.layers import Dense"
   ]
  },
  {
   "cell_type": "code",
   "execution_count": 2,
   "id": "0eaffe7c",
   "metadata": {},
   "outputs": [],
   "source": [
    "def Sort_Tuple(tup): \n",
    "    tup.sort(key = lambda x: x[1]) \n",
    "    return tup "
   ]
  },
  {
   "cell_type": "code",
   "execution_count": 3,
   "id": "3c4db48c",
   "metadata": {},
   "outputs": [],
   "source": [
    "# Use the following only on the training data, not the validation one\n",
    "# We will mostly use Standardize\n",
    "# Should we normalize/standardize the Fantasy Points column? I think so...\n",
    "def data_Normalize(data, target_col):\n",
    "    newData=data.copy()\n",
    "    \n",
    "    for c in list(target_col):\n",
    "        # First exception shouldn't happen since we deal with strings before\n",
    "        if (not isinstance(data.loc[ data.index[0],c], str)) :\n",
    "            minval=np.min(data[c])\n",
    "            maxval=np.max(data[c])\n",
    "            newData[c]=(data[c]-minval)/(maxval-minval)\n",
    "            \n",
    "    return newData\n",
    "\n",
    "def data_Standardize(data, target_col):\n",
    "    newData=data.copy()\n",
    "    \n",
    "    for c in list(data.columns):\n",
    "        # First exception shouldn't happen since we deal with strings before\n",
    "        if (not isinstance(data.loc[ data.index[0],c], str)) :\n",
    "            avg=np.mean(data[c])\n",
    "            std=np.std(data[c])\n",
    "            newData[c]=(data[c]-avg)/std\n",
    "            \n",
    "    return newData"
   ]
  },
  {
   "cell_type": "code",
   "execution_count": 4,
   "id": "aa14c8f0",
   "metadata": {},
   "outputs": [],
   "source": [
    "# Import data\n",
    "dill_file = open(\"all_data_min_v1\", \"rb\")\n",
    "all_cleaned_data = dill.load(dill_file)\n",
    "dill_file.close()"
   ]
  },
  {
   "cell_type": "code",
   "execution_count": 5,
   "id": "2bcab3fb",
   "metadata": {
    "scrolled": true
   },
   "outputs": [
    {
     "data": {
      "text/plain": [
       "{0: ('S1', 'Name'),\n",
       " 1: ('S1', 'Fantasy Points'),\n",
       " 2: ('S1', 'Position'),\n",
       " 3: ('S1', 'Age'),\n",
       " 4: ('S1', 'GP'),\n",
       " 5: ('S1', 'PTS'),\n",
       " 6: ('S1', 'G'),\n",
       " 7: ('S1', 'S'),\n",
       " 8: ('S1', 'PIM'),\n",
       " 9: ('S1', 'HIT'),\n",
       " 10: ('S1', 'BLK'),\n",
       " 11: ('S1', 'ATOI'),\n",
       " 12: ('S1', '+/-'),\n",
       " 13: ('S2', 'Name'),\n",
       " 14: ('S2', 'Fantasy Points'),\n",
       " 15: ('S2', 'Position'),\n",
       " 16: ('S2', 'Age'),\n",
       " 17: ('S2', 'GP'),\n",
       " 18: ('S2', 'PTS'),\n",
       " 19: ('S2', 'G'),\n",
       " 20: ('S2', 'S'),\n",
       " 21: ('S2', 'PIM'),\n",
       " 22: ('S2', 'HIT'),\n",
       " 23: ('S2', 'BLK'),\n",
       " 24: ('S2', 'ATOI'),\n",
       " 25: ('S2', '+/-')}"
      ]
     },
     "execution_count": 5,
     "metadata": {},
     "output_type": "execute_result"
    }
   ],
   "source": [
    "dill_file = open(\"all_col_names\", \"rb\")\n",
    "col_dict = dill.load(dill_file)\n",
    "dill_file.close()\n",
    "# Column dictionary for subset of column\n",
    "min_col_names=[0,1,2,4,7,306,304,309,308,29,28,24,11]\n",
    "min_col_dict={}\n",
    "for i,j in enumerate(min_col_names):\n",
    "    min_col_dict[i]=('S1',list(col_dict[j])[1])\n",
    "for i,j in enumerate(min_col_names):\n",
    "    min_col_dict[i+len(min_col_names)]=('S2',list(col_dict[j])[1])\n",
    "min_col_dict"
   ]
  },
  {
   "cell_type": "markdown",
   "id": "5251630b",
   "metadata": {},
   "source": [
    "# Model Fit -- PPG"
   ]
  },
  {
   "cell_type": "code",
   "execution_count": 6,
   "id": "bbc8421f",
   "metadata": {},
   "outputs": [
    {
     "data": {
      "text/html": [
       "<div>\n",
       "<style scoped>\n",
       "    .dataframe tbody tr th:only-of-type {\n",
       "        vertical-align: middle;\n",
       "    }\n",
       "\n",
       "    .dataframe tbody tr th {\n",
       "        vertical-align: top;\n",
       "    }\n",
       "\n",
       "    .dataframe thead th {\n",
       "        text-align: right;\n",
       "    }\n",
       "</style>\n",
       "<table border=\"1\" class=\"dataframe\">\n",
       "  <thead>\n",
       "    <tr style=\"text-align: right;\">\n",
       "      <th></th>\n",
       "      <th>Target FPPG</th>\n",
       "      <th>Target PPG</th>\n",
       "      <th>1</th>\n",
       "      <th>2</th>\n",
       "      <th>3</th>\n",
       "      <th>4</th>\n",
       "      <th>5</th>\n",
       "      <th>6</th>\n",
       "      <th>7</th>\n",
       "      <th>8</th>\n",
       "      <th>...</th>\n",
       "      <th>15</th>\n",
       "      <th>16</th>\n",
       "      <th>17</th>\n",
       "      <th>18</th>\n",
       "      <th>19</th>\n",
       "      <th>20</th>\n",
       "      <th>21</th>\n",
       "      <th>22</th>\n",
       "      <th>23</th>\n",
       "      <th>24</th>\n",
       "    </tr>\n",
       "  </thead>\n",
       "  <tbody>\n",
       "    <tr>\n",
       "      <th>0</th>\n",
       "      <td>10.627130</td>\n",
       "      <td>1.01</td>\n",
       "      <td>11.34878</td>\n",
       "      <td>1.0</td>\n",
       "      <td>24.0</td>\n",
       "      <td>1.0</td>\n",
       "      <td>1.15</td>\n",
       "      <td>0.55</td>\n",
       "      <td>4.44</td>\n",
       "      <td>0.29</td>\n",
       "      <td>...</td>\n",
       "      <td>23.0</td>\n",
       "      <td>0.987805</td>\n",
       "      <td>0.8</td>\n",
       "      <td>0.4</td>\n",
       "      <td>3.28</td>\n",
       "      <td>0.31</td>\n",
       "      <td>0.938272</td>\n",
       "      <td>0.37037</td>\n",
       "      <td>0.301111</td>\n",
       "      <td>0.158537</td>\n",
       "    </tr>\n",
       "    <tr>\n",
       "      <th>1</th>\n",
       "      <td>10.591260</td>\n",
       "      <td>0.83</td>\n",
       "      <td>9.237662</td>\n",
       "      <td>1.0</td>\n",
       "      <td>32.0</td>\n",
       "      <td>0.939024</td>\n",
       "      <td>1.01</td>\n",
       "      <td>0.4</td>\n",
       "      <td>3.21</td>\n",
       "      <td>0.42</td>\n",
       "      <td>...</td>\n",
       "      <td>31.0</td>\n",
       "      <td>0.902439</td>\n",
       "      <td>0.74</td>\n",
       "      <td>0.27</td>\n",
       "      <td>3.55</td>\n",
       "      <td>0.51</td>\n",
       "      <td>0.689189</td>\n",
       "      <td>0.27027</td>\n",
       "      <td>0.307778</td>\n",
       "      <td>0.121951</td>\n",
       "    </tr>\n",
       "    <tr>\n",
       "      <th>2</th>\n",
       "      <td>6.976437</td>\n",
       "      <td>0.75</td>\n",
       "      <td>8.050617</td>\n",
       "      <td>1.0</td>\n",
       "      <td>33.0</td>\n",
       "      <td>0.987805</td>\n",
       "      <td>0.85</td>\n",
       "      <td>0.36</td>\n",
       "      <td>2.83</td>\n",
       "      <td>0.69</td>\n",
       "      <td>...</td>\n",
       "      <td>32.0</td>\n",
       "      <td>0.780488</td>\n",
       "      <td>0.64</td>\n",
       "      <td>0.2</td>\n",
       "      <td>2.38</td>\n",
       "      <td>0.47</td>\n",
       "      <td>0.90625</td>\n",
       "      <td>0.234375</td>\n",
       "      <td>0.305</td>\n",
       "      <td>-0.012195</td>\n",
       "    </tr>\n",
       "    <tr>\n",
       "      <th>3</th>\n",
       "      <td>7.585366</td>\n",
       "      <td>0.82</td>\n",
       "      <td>7.20122</td>\n",
       "      <td>1.0</td>\n",
       "      <td>23.0</td>\n",
       "      <td>1.0</td>\n",
       "      <td>0.76</td>\n",
       "      <td>0.24</td>\n",
       "      <td>2.26</td>\n",
       "      <td>0.35</td>\n",
       "      <td>...</td>\n",
       "      <td>22.0</td>\n",
       "      <td>1.0</td>\n",
       "      <td>0.41</td>\n",
       "      <td>0.17</td>\n",
       "      <td>1.89</td>\n",
       "      <td>0.38</td>\n",
       "      <td>0.695122</td>\n",
       "      <td>0.182927</td>\n",
       "      <td>0.278889</td>\n",
       "      <td>-0.134146</td>\n",
       "    </tr>\n",
       "    <tr>\n",
       "      <th>4</th>\n",
       "      <td>11.554045</td>\n",
       "      <td>0.75</td>\n",
       "      <td>7.125926</td>\n",
       "      <td>1.0</td>\n",
       "      <td>30.0</td>\n",
       "      <td>0.987805</td>\n",
       "      <td>0.74</td>\n",
       "      <td>0.25</td>\n",
       "      <td>3.06</td>\n",
       "      <td>0.4</td>\n",
       "      <td>...</td>\n",
       "      <td>29.0</td>\n",
       "      <td>1.0</td>\n",
       "      <td>0.65</td>\n",
       "      <td>0.27</td>\n",
       "      <td>3.13</td>\n",
       "      <td>0.56</td>\n",
       "      <td>0.634146</td>\n",
       "      <td>0.170732</td>\n",
       "      <td>0.304444</td>\n",
       "      <td>0.012195</td>\n",
       "    </tr>\n",
       "    <tr>\n",
       "      <th>...</th>\n",
       "      <td>...</td>\n",
       "      <td>...</td>\n",
       "      <td>...</td>\n",
       "      <td>...</td>\n",
       "      <td>...</td>\n",
       "      <td>...</td>\n",
       "      <td>...</td>\n",
       "      <td>...</td>\n",
       "      <td>...</td>\n",
       "      <td>...</td>\n",
       "      <td>...</td>\n",
       "      <td>...</td>\n",
       "      <td>...</td>\n",
       "      <td>...</td>\n",
       "      <td>...</td>\n",
       "      <td>...</td>\n",
       "      <td>...</td>\n",
       "      <td>...</td>\n",
       "      <td>...</td>\n",
       "      <td>...</td>\n",
       "      <td>...</td>\n",
       "    </tr>\n",
       "    <tr>\n",
       "      <th>6371</th>\n",
       "      <td>6.768388</td>\n",
       "      <td>0.45</td>\n",
       "      <td>3.048571</td>\n",
       "      <td>1.0</td>\n",
       "      <td>40.0</td>\n",
       "      <td>0.853659</td>\n",
       "      <td>0.44</td>\n",
       "      <td>0.1</td>\n",
       "      <td>1.09</td>\n",
       "      <td>0.49</td>\n",
       "      <td>...</td>\n",
       "      <td>39.0</td>\n",
       "      <td>0.890244</td>\n",
       "      <td>0.7</td>\n",
       "      <td>0.22</td>\n",
       "      <td>1.23</td>\n",
       "      <td>0.27</td>\n",
       "      <td>0.232877</td>\n",
       "      <td>0.191781</td>\n",
       "      <td>0.259167</td>\n",
       "      <td>0.097561</td>\n",
       "    </tr>\n",
       "    <tr>\n",
       "      <th>6372</th>\n",
       "      <td>4.524138</td>\n",
       "      <td>0.17</td>\n",
       "      <td>2.275758</td>\n",
       "      <td>1.0</td>\n",
       "      <td>27.0</td>\n",
       "      <td>0.804878</td>\n",
       "      <td>0.27</td>\n",
       "      <td>0.11</td>\n",
       "      <td>1.18</td>\n",
       "      <td>0.39</td>\n",
       "      <td>...</td>\n",
       "      <td>26.0</td>\n",
       "      <td>0.97561</td>\n",
       "      <td>0.38</td>\n",
       "      <td>0.21</td>\n",
       "      <td>1.25</td>\n",
       "      <td>0.29</td>\n",
       "      <td>1.1</td>\n",
       "      <td>0.3625</td>\n",
       "      <td>0.216111</td>\n",
       "      <td>0.121951</td>\n",
       "    </tr>\n",
       "    <tr>\n",
       "      <th>6373</th>\n",
       "      <td>3.445829</td>\n",
       "      <td>0.12</td>\n",
       "      <td>3.051429</td>\n",
       "      <td>0.0</td>\n",
       "      <td>32.0</td>\n",
       "      <td>0.853659</td>\n",
       "      <td>0.21</td>\n",
       "      <td>0.07</td>\n",
       "      <td>1.06</td>\n",
       "      <td>0.14</td>\n",
       "      <td>...</td>\n",
       "      <td>31.0</td>\n",
       "      <td>0.878049</td>\n",
       "      <td>0.35</td>\n",
       "      <td>0.04</td>\n",
       "      <td>1.39</td>\n",
       "      <td>0.14</td>\n",
       "      <td>0.319444</td>\n",
       "      <td>1.583333</td>\n",
       "      <td>0.350833</td>\n",
       "      <td>-0.073171</td>\n",
       "    </tr>\n",
       "    <tr>\n",
       "      <th>6374</th>\n",
       "      <td>4.070970</td>\n",
       "      <td>0.24</td>\n",
       "      <td>2.154</td>\n",
       "      <td>1.0</td>\n",
       "      <td>23.0</td>\n",
       "      <td>0.609756</td>\n",
       "      <td>0.22</td>\n",
       "      <td>0.1</td>\n",
       "      <td>0.86</td>\n",
       "      <td>0.34</td>\n",
       "      <td>...</td>\n",
       "      <td>22.0</td>\n",
       "      <td>0.097561</td>\n",
       "      <td>0.0</td>\n",
       "      <td>0.0</td>\n",
       "      <td>0.75</td>\n",
       "      <td>0.25</td>\n",
       "      <td>1.625</td>\n",
       "      <td>0.125</td>\n",
       "      <td>0.143889</td>\n",
       "      <td>0.012195</td>\n",
       "    </tr>\n",
       "    <tr>\n",
       "      <th>6375</th>\n",
       "      <td>4.223000</td>\n",
       "      <td>0.15</td>\n",
       "      <td>2.291667</td>\n",
       "      <td>0.0</td>\n",
       "      <td>27.0</td>\n",
       "      <td>0.585366</td>\n",
       "      <td>0.19</td>\n",
       "      <td>0.04</td>\n",
       "      <td>0.83</td>\n",
       "      <td>0.29</td>\n",
       "      <td>...</td>\n",
       "      <td>26.0</td>\n",
       "      <td>0.5</td>\n",
       "      <td>0.22</td>\n",
       "      <td>0.02</td>\n",
       "      <td>1.0</td>\n",
       "      <td>0.2</td>\n",
       "      <td>1.634146</td>\n",
       "      <td>0.829268</td>\n",
       "      <td>0.253611</td>\n",
       "      <td>0.085366</td>\n",
       "    </tr>\n",
       "  </tbody>\n",
       "</table>\n",
       "<p>6376 rows × 26 columns</p>\n",
       "</div>"
      ],
      "text/plain": [
       "      Target FPPG  Target PPG         1    2     3         4     5     6  \\\n",
       "0       10.627130        1.01  11.34878  1.0  24.0       1.0  1.15  0.55   \n",
       "1       10.591260        0.83  9.237662  1.0  32.0  0.939024  1.01   0.4   \n",
       "2        6.976437        0.75  8.050617  1.0  33.0  0.987805  0.85  0.36   \n",
       "3        7.585366        0.82   7.20122  1.0  23.0       1.0  0.76  0.24   \n",
       "4       11.554045        0.75  7.125926  1.0  30.0  0.987805  0.74  0.25   \n",
       "...           ...         ...       ...  ...   ...       ...   ...   ...   \n",
       "6371     6.768388        0.45  3.048571  1.0  40.0  0.853659  0.44   0.1   \n",
       "6372     4.524138        0.17  2.275758  1.0  27.0  0.804878  0.27  0.11   \n",
       "6373     3.445829        0.12  3.051429  0.0  32.0  0.853659  0.21  0.07   \n",
       "6374     4.070970        0.24     2.154  1.0  23.0  0.609756  0.22   0.1   \n",
       "6375     4.223000        0.15  2.291667  0.0  27.0  0.585366  0.19  0.04   \n",
       "\n",
       "         7     8  ...    15        16    17    18    19    20        21  \\\n",
       "0     4.44  0.29  ...  23.0  0.987805   0.8   0.4  3.28  0.31  0.938272   \n",
       "1     3.21  0.42  ...  31.0  0.902439  0.74  0.27  3.55  0.51  0.689189   \n",
       "2     2.83  0.69  ...  32.0  0.780488  0.64   0.2  2.38  0.47   0.90625   \n",
       "3     2.26  0.35  ...  22.0       1.0  0.41  0.17  1.89  0.38  0.695122   \n",
       "4     3.06   0.4  ...  29.0       1.0  0.65  0.27  3.13  0.56  0.634146   \n",
       "...    ...   ...  ...   ...       ...   ...   ...   ...   ...       ...   \n",
       "6371  1.09  0.49  ...  39.0  0.890244   0.7  0.22  1.23  0.27  0.232877   \n",
       "6372  1.18  0.39  ...  26.0   0.97561  0.38  0.21  1.25  0.29       1.1   \n",
       "6373  1.06  0.14  ...  31.0  0.878049  0.35  0.04  1.39  0.14  0.319444   \n",
       "6374  0.86  0.34  ...  22.0  0.097561   0.0   0.0  0.75  0.25     1.625   \n",
       "6375  0.83  0.29  ...  26.0       0.5  0.22  0.02   1.0   0.2  1.634146   \n",
       "\n",
       "            22        23        24  \n",
       "0      0.37037  0.301111  0.158537  \n",
       "1      0.27027  0.307778  0.121951  \n",
       "2     0.234375     0.305 -0.012195  \n",
       "3     0.182927  0.278889 -0.134146  \n",
       "4     0.170732  0.304444  0.012195  \n",
       "...        ...       ...       ...  \n",
       "6371  0.191781  0.259167  0.097561  \n",
       "6372    0.3625  0.216111  0.121951  \n",
       "6373  1.583333  0.350833 -0.073171  \n",
       "6374     0.125  0.143889  0.012195  \n",
       "6375  0.829268  0.253611  0.085366  \n",
       "\n",
       "[6376 rows x 26 columns]"
      ]
     },
     "execution_count": 6,
     "metadata": {},
     "output_type": "execute_result"
    }
   ],
   "source": [
    "# Drop name column\n",
    "fitData=all_cleaned_data.drop(0, axis=1)\n",
    "fitData"
   ]
  },
  {
   "cell_type": "markdown",
   "id": "ebd3aaf1",
   "metadata": {},
   "source": [
    "Let us begin by visualizing the data. We expect PPG to be positively proportional to PPG in the following year."
   ]
  },
  {
   "cell_type": "code",
   "execution_count": 7,
   "id": "175abe00",
   "metadata": {},
   "outputs": [
    {
     "data": {
      "text/plain": [
       "<function matplotlib.pyplot.show(close=None, block=None)>"
      ]
     },
     "execution_count": 7,
     "metadata": {},
     "output_type": "execute_result"
    },
    {
     "data": {
      "image/png": "[encoded data removed]",
      "text/plain": [
       "<Figure size 432x288 with 1 Axes>"
      ]
     },
     "metadata": {
      "needs_background": "light"
     },
     "output_type": "display_data"
    }
   ],
   "source": [
    "plt.scatter(fitData[5], fitData['Target PPG'])\n",
    "plt.xlabel(\"Current year PPG\")\n",
    "plt.ylabel(\"True next year PPG\")\n",
    "plt.show"
   ]
  },
  {
   "cell_type": "code",
   "execution_count": 8,
   "id": "9e628a7a",
   "metadata": {},
   "outputs": [
    {
     "name": "stdout",
     "output_type": "stream",
     "text": [
      "MSE: 0.023317440401505834\n",
      "RMSE: 0.1527004924730298\n"
     ]
    }
   ],
   "source": [
    "# Regression task: Assume players maintain EXACT same production the next year\n",
    "MSE=np.mean((fitData[5]-fitData['Target PPG'])**2)\n",
    "print(f'MSE: {MSE}')\n",
    "print(f'RMSE: {np.sqrt(MSE)}')"
   ]
  },
  {
   "cell_type": "code",
   "execution_count": 9,
   "id": "546ac921",
   "metadata": {},
   "outputs": [],
   "source": [
    "X_train, X_test, y_train, y_test = train_test_split(\n",
    "    fitData.drop('Target PPG',axis=1).drop('Target FPPG',axis=1), fitData['Target PPG'], test_size=0.15)"
   ]
  },
  {
   "cell_type": "code",
   "execution_count": 10,
   "id": "9260e01c",
   "metadata": {},
   "outputs": [
    {
     "name": "stdout",
     "output_type": "stream",
     "text": [
      "MSE: 0.01752624284356615\n",
      "RMSE: 0.13238671702087845\n"
     ]
    }
   ],
   "source": [
    "# Linear Regression\n",
    "lin_reg = LinearRegression()  \n",
    "lin_reg.fit(X_train, y_train) #training the algorithm\n",
    "lin_res=lin_reg.predict(X_test)\n",
    "print(f'MSE: {metrics.mean_squared_error(lin_res,y_test)}')\n",
    "print(f'RMSE: {np.sqrt(metrics.mean_squared_error(lin_res,y_test))}')"
   ]
  },
  {
   "cell_type": "markdown",
   "id": "9fa85b01",
   "metadata": {},
   "source": [
    "We see a small improvement"
   ]
  },
  {
   "cell_type": "code",
   "execution_count": 11,
   "id": "dc277eb4",
   "metadata": {
    "scrolled": true
   },
   "outputs": [
    {
     "name": "stdout",
     "output_type": "stream",
     "text": [
      "MSE: 0.01899371356375739\n",
      "RMSE: 0.13781768233342698\n"
     ]
    }
   ],
   "source": [
    "mlp_reg = MLPRegressor(hidden_layer_sizes=(256,128,64,64,32,16),activation=\"relu\", solver='adam', learning_rate='adaptive' ,random_state=2, max_iter=3000).fit(X_train, y_train)\n",
    "mlp_res = mlp_reg.predict(X_test)\n",
    "print(f'MSE: {metrics.mean_squared_error(mlp_res,y_test)}')\n",
    "print(f'RMSE: {np.sqrt(metrics.mean_squared_error(mlp_res,y_test))}')"
   ]
  },
  {
   "cell_type": "code",
   "execution_count": 12,
   "id": "fc65fd53",
   "metadata": {},
   "outputs": [
    {
     "data": {
      "text/plain": [
       "[<matplotlib.lines.Line2D at 0x177bb8250>]"
      ]
     },
     "execution_count": 12,
     "metadata": {},
     "output_type": "execute_result"
    },
    {
     "data": {
      "image/png": "[encoded data removed]",
      "text/plain": [
       "<Figure size 432x288 with 1 Axes>"
      ]
     },
     "metadata": {
      "needs_background": "light"
     },
     "output_type": "display_data"
    }
   ],
   "source": [
    "plt.plot(mlp_reg.loss_curve_)"
   ]
  },
  {
   "cell_type": "code",
   "execution_count": 13,
   "id": "c7052832",
   "metadata": {},
   "outputs": [
    {
     "data": {
      "text/plain": [
       "(5419, 24)"
      ]
     },
     "execution_count": 13,
     "metadata": {},
     "output_type": "execute_result"
    }
   ],
   "source": [
    "X_train.shape"
   ]
  },
  {
   "cell_type": "code",
   "execution_count": 14,
   "id": "c15e99c3",
   "metadata": {
    "scrolled": true
   },
   "outputs": [
    {
     "name": "stdout",
     "output_type": "stream",
     "text": [
      "Epoch 1/40\n",
      "\r",
      " 1/28 [>.............................] - ETA: 4s - loss: 0.1153"
     ]
    },
    {
     "name": "stderr",
     "output_type": "stream",
     "text": [
      "2022-01-30 23:53:11.206352: W tensorflow/core/platform/profile_utils/cpu_utils.cc:128] Failed to get CPU frequency: 0 Hz\n"
     ]
    },
    {
     "name": "stdout",
     "output_type": "stream",
     "text": [
      "28/28 [==============================] - 0s 4ms/step - loss: 0.0359 - val_loss: 0.0239\n",
      "Epoch 2/40\n",
      "28/28 [==============================] - 0s 2ms/step - loss: 0.0232 - val_loss: 0.0241\n",
      "Epoch 3/40\n",
      "28/28 [==============================] - 0s 2ms/step - loss: 0.0225 - val_loss: 0.0224\n",
      "Epoch 4/40\n",
      "28/28 [==============================] - 0s 2ms/step - loss: 0.0225 - val_loss: 0.0199\n",
      "Epoch 5/40\n",
      "28/28 [==============================] - 0s 2ms/step - loss: 0.0212 - val_loss: 0.0377\n",
      "Epoch 6/40\n",
      "28/28 [==============================] - 0s 2ms/step - loss: 0.0255 - val_loss: 0.0207\n",
      "Epoch 7/40\n",
      "28/28 [==============================] - 0s 2ms/step - loss: 0.0210 - val_loss: 0.0194\n",
      "Epoch 8/40\n",
      "28/28 [==============================] - 0s 2ms/step - loss: 0.0208 - val_loss: 0.0191\n",
      "Epoch 9/40\n",
      "28/28 [==============================] - 0s 2ms/step - loss: 0.0212 - val_loss: 0.0207\n",
      "Epoch 10/40\n",
      "28/28 [==============================] - 0s 2ms/step - loss: 0.0207 - val_loss: 0.0182\n",
      "Epoch 11/40\n",
      "28/28 [==============================] - 0s 2ms/step - loss: 0.0209 - val_loss: 0.0184\n",
      "Epoch 12/40\n",
      "28/28 [==============================] - 0s 2ms/step - loss: 0.0201 - val_loss: 0.0194\n",
      "Epoch 13/40\n",
      "28/28 [==============================] - 0s 2ms/step - loss: 0.0204 - val_loss: 0.0203\n",
      "Epoch 14/40\n",
      "28/28 [==============================] - 0s 2ms/step - loss: 0.0212 - val_loss: 0.0238\n",
      "Epoch 15/40\n",
      "28/28 [==============================] - 0s 2ms/step - loss: 0.0211 - val_loss: 0.0187\n",
      "Epoch 16/40\n",
      "28/28 [==============================] - 0s 2ms/step - loss: 0.0203 - val_loss: 0.0191\n",
      "Epoch 17/40\n",
      "28/28 [==============================] - 0s 2ms/step - loss: 0.0202 - val_loss: 0.0197\n",
      "Epoch 18/40\n",
      "28/28 [==============================] - 0s 2ms/step - loss: 0.0200 - val_loss: 0.0180\n",
      "Epoch 19/40\n",
      "28/28 [==============================] - 0s 2ms/step - loss: 0.0202 - val_loss: 0.0203\n",
      "Epoch 20/40\n",
      "28/28 [==============================] - 0s 2ms/step - loss: 0.0203 - val_loss: 0.0202\n",
      "Epoch 21/40\n",
      "28/28 [==============================] - 0s 2ms/step - loss: 0.0203 - val_loss: 0.0202\n",
      "Epoch 22/40\n",
      "28/28 [==============================] - 0s 2ms/step - loss: 0.0200 - val_loss: 0.0186\n",
      "Epoch 23/40\n",
      "28/28 [==============================] - 0s 2ms/step - loss: 0.0201 - val_loss: 0.0182\n",
      "Epoch 24/40\n",
      "28/28 [==============================] - 0s 2ms/step - loss: 0.0200 - val_loss: 0.0179\n",
      "Epoch 25/40\n",
      "28/28 [==============================] - 0s 2ms/step - loss: 0.0199 - val_loss: 0.0180\n",
      "Epoch 26/40\n",
      "28/28 [==============================] - 0s 2ms/step - loss: 0.0193 - val_loss: 0.0185\n",
      "Epoch 27/40\n",
      "28/28 [==============================] - 0s 2ms/step - loss: 0.0194 - val_loss: 0.0179\n",
      "Epoch 28/40\n",
      "28/28 [==============================] - 0s 2ms/step - loss: 0.0195 - val_loss: 0.0190\n",
      "Epoch 29/40\n",
      "28/28 [==============================] - 0s 2ms/step - loss: 0.0197 - val_loss: 0.0217\n",
      "Epoch 30/40\n",
      "28/28 [==============================] - 0s 2ms/step - loss: 0.0198 - val_loss: 0.0178\n",
      "Epoch 31/40\n",
      "28/28 [==============================] - 0s 2ms/step - loss: 0.0198 - val_loss: 0.0178\n",
      "Epoch 32/40\n",
      "28/28 [==============================] - 0s 2ms/step - loss: 0.0192 - val_loss: 0.0193\n",
      "Epoch 33/40\n",
      "28/28 [==============================] - 0s 2ms/step - loss: 0.0194 - val_loss: 0.0181\n",
      "Epoch 34/40\n",
      "28/28 [==============================] - 0s 2ms/step - loss: 0.0194 - val_loss: 0.0178\n",
      "Epoch 35/40\n",
      "28/28 [==============================] - 0s 2ms/step - loss: 0.0194 - val_loss: 0.0181\n",
      "Epoch 36/40\n",
      "28/28 [==============================] - 0s 2ms/step - loss: 0.0194 - val_loss: 0.0214\n",
      "Epoch 37/40\n",
      "28/28 [==============================] - 0s 2ms/step - loss: 0.0198 - val_loss: 0.0194\n",
      "Epoch 38/40\n",
      "28/28 [==============================] - 0s 2ms/step - loss: 0.0192 - val_loss: 0.0179\n",
      "Epoch 39/40\n",
      "28/28 [==============================] - 0s 2ms/step - loss: 0.0191 - val_loss: 0.0177\n",
      "Epoch 40/40\n",
      "28/28 [==============================] - 0s 2ms/step - loss: 0.0197 - val_loss: 0.0177\n"
     ]
    },
    {
     "data": {
      "text/plain": [
       "<function matplotlib.pyplot.show(close=None, block=None)>"
      ]
     },
     "execution_count": 14,
     "metadata": {},
     "output_type": "execute_result"
    },
    {
     "data": {
      "image/png": "[encoded data removed]",
      "text/plain": [
       "<Figure size 432x288 with 1 Axes>"
      ]
     },
     "metadata": {
      "needs_background": "light"
     },
     "output_type": "display_data"
    }
   ],
   "source": [
    "model = Sequential()\n",
    "model.add(Dense(256, input_dim=24, activation='relu'))\n",
    "model.add(Dense(128, activation='relu'))\n",
    "model.add(Dense(64, activation='relu'))\n",
    "model.add(Dense(64, activation='relu'))\n",
    "model.add(Dense(32, activation='relu'))\n",
    "model.add(Dense(16, activation='relu'))\n",
    "model.add(Dense(1, activation='sigmoid'))\n",
    "model.compile(loss='mse', optimizer='adam')\n",
    "history=model.fit(tf.convert_to_tensor(X_train, np.float64), tf.convert_to_tensor(y_train, np.float64), \n",
    "                  epochs=40, batch_size=200,\n",
    "                  validation_data=(tf.convert_to_tensor(X_test, np.float64), tf.convert_to_tensor(y_test, np.float64)) )\n",
    "#Plot loss\n",
    "plt.plot(history.history['loss'] )\n",
    "plt.plot(history.history['val_loss'] )\n",
    "plt.show"
   ]
  },
  {
   "cell_type": "markdown",
   "id": "88a87f77",
   "metadata": {},
   "source": [
    "Let's make predictions for the 2022 season"
   ]
  },
  {
   "cell_type": "code",
   "execution_count": 17,
   "id": "f57f925e",
   "metadata": {},
   "outputs": [],
   "source": [
    "# Import data for 2022 to test as target\n",
    "# Target columns are meaningless since we didn't collect 2022 season data.\n",
    "# One should consult current daily stats to compare\n",
    "dill_file = open(\"all_data_min_test\", \"rb\")\n",
    "all2022 = dill.load(dill_file)\n",
    "dill_file.close()\n",
    "all2022.index=range(len(all2022.index))\n",
    "all2022=all2022.fillna(0)\n",
    "X2022=all2022.drop('Target FPPG', axis=1).drop('Target PPG', axis=1).drop(0, axis=1)"
   ]
  },
  {
   "cell_type": "code",
   "execution_count": 18,
   "id": "b56503d4",
   "metadata": {
    "scrolled": true
   },
   "outputs": [
    {
     "data": {
      "text/plain": [
       "[(0, 0.8856650530143988),\n",
       " (21, 0.8960022318473436),\n",
       " (22, 0.897086216563408),\n",
       " (107, 0.8992695760325586),\n",
       " (108, 0.913560939618248),\n",
       " (174, 0.9184576447724843),\n",
       " (175, 0.9323438896713747),\n",
       " (216, 0.9417056542632936),\n",
       " (218, 0.9435967150182204),\n",
       " (262, 1.0039212539952809),\n",
       " (336, 1.0127949403486365),\n",
       " (337, 1.0346844179767445),\n",
       " (357, 1.0373623674066321),\n",
       " (358, 1.0673861677518763),\n",
       " (379, 1.0887632413094288),\n",
       " (470, 1.125514160244926),\n",
       " (471, 1.1501959185013115),\n",
       " (474, 1.2307762934437552),\n",
       " (491, 1.2733529181274679),\n",
       " (492, 1.4831395707925545)]"
      ]
     },
     "metadata": {},
     "output_type": "display_data"
    },
    {
     "name": "stdout",
     "output_type": "stream",
     "text": [
      "Predicted: (Name:Sebastian Aho, Age:23.0, FPPG: 8.967857142857143, PPG: 1.02)\n",
      "Predicted: (Name:Jonathan Huberdeau, Age:27.0, FPPG: 8.66909090909091, PPG: 1.11)\n",
      "Predicted: (Name:Aleksander Barkov, Age:25.0, FPPG: 10.828, PPG: 1.16)\n",
      "Predicted: (Name:Patrick Kane, Age:32.0, FPPG: 9.123214285714285, PPG: 1.18)\n",
      "Predicted: (Name:Alex DeBrincat, Age:23.0, FPPG: 9.451923076923077, PPG: 1.08)\n",
      "Predicted: (Name:Sidney Crosby, Age:33.0, FPPG: 9.583636363636364, PPG: 1.13)\n",
      "Predicted: (Name:Jake Guentzel, Age:26.0, FPPG: 8.623214285714285, PPG: 1.02)\n",
      "Predicted: (Name:Brad Marchand3, Age:32.0, FPPG: 10.59811320754717, PPG: 1.3)\n",
      "Predicted: (Name:David Pastrnak, Age:24.0, FPPG: 9.404166666666667, PPG: 1.0)\n",
      "Predicted: (Name:Artemi Panarin, Age:29.0, FPPG: 10.295238095238094, PPG: 1.38)\n",
      "Predicted: (Name:Mitch Marner, Age:23.0, FPPG: 10.17090909090909, PPG: 1.22)\n",
      "Predicted: (Name:Auston Matthews, Age:23.0, FPPG: 12.707692307692307, PPG: 1.27)\n",
      "Predicted: (Name:Connor McDavid, Age:24.0, FPPG: 14.392857142857142, PPG: 1.88)\n",
      "Predicted: (Name:Leon Draisaitl, Age:25.0, FPPG: 12.200000000000001, PPG: 1.5)\n",
      "Predicted: (Name:Mark Scheifele, Age:27.0, FPPG: 8.417857142857143, PPG: 1.13)\n",
      "Predicted: (Name:Mikko Rantanen, Age:24.0, FPPG: 11.75576923076923, PPG: 1.27)\n",
      "Predicted: (Name:Nathan MacKinnon, Age:25.0, FPPG: 12.383333333333333, PPG: 1.35)\n",
      "Predicted: (Name:Cale Makar, Age:22.0, FPPG: 9.081818181818182, PPG: 1.0)\n",
      "Predicted: (Name:Mark Stone, Age:28.0, FPPG: 8.967272727272727, PPG: 1.11)\n",
      "Predicted: (Name:Max Pacioretty, Age:32.0, FPPG: 10.450000000000001, PPG: 1.06)\n"
     ]
    }
   ],
   "source": [
    "# Linear model prediction\n",
    "lin_pred=lin_reg.predict(X2022)\n",
    "indices=[]\n",
    "vals=[]\n",
    "for j in list(np.sort(lin_pred)[-20:]):\n",
    "    indices.append(np.where(lin_pred==j)[0])\n",
    "    vals.append(j)\n",
    "top10=np.unique(np.concatenate(indices))\n",
    "pair=[]\n",
    "for i,j in enumerate(top10):\n",
    "    pair.append((j, vals[i]))\n",
    "display(pair)\n",
    "for j in Sort_Tuple(pair):\n",
    "    ind=j[0]\n",
    "    print(f'Predicted: (Name:{all2022.loc[ind,0]}, Age:{all2022.loc[ind,3]}, FPPG: {all2022.loc[ind,1]}, PPG: {all2022.loc[ind,5]})')"
   ]
  },
  {
   "cell_type": "code",
   "execution_count": 19,
   "id": "4addabd1",
   "metadata": {
    "scrolled": true
   },
   "outputs": [
    {
     "data": {
      "text/plain": [
       "[(0, 0.8317812572142906),\n",
       " (21, 0.8331529953465009),\n",
       " (22, 0.8343539986062459),\n",
       " (107, 0.83467083706722),\n",
       " (108, 0.8384354765469254),\n",
       " (175, 0.8514158779490157),\n",
       " (216, 0.8760206138806761),\n",
       " (218, 0.8891546817263547),\n",
       " (262, 0.9030319598906238),\n",
       " (336, 0.9117882906845557),\n",
       " (337, 0.924448818064425),\n",
       " (357, 0.974441580126528),\n",
       " (358, 0.9851268193243481),\n",
       " (379, 1.0314258073309177),\n",
       " (380, 1.1084341202392292),\n",
       " (381, 1.110167828464414),\n",
       " (470, 1.1409766323454449),\n",
       " (471, 1.2001935410721756),\n",
       " (474, 1.3408410719869148),\n",
       " (491, 1.480327996953568)]"
      ]
     },
     "metadata": {},
     "output_type": "display_data"
    },
    {
     "name": "stdout",
     "output_type": "stream",
     "text": [
      "Predicted: (Name:Sebastian Aho, Age:23.0, FPPG: 8.967857142857143, PPG: 1.02)\n",
      "Predicted: (Name:Jonathan Huberdeau, Age:27.0, FPPG: 8.66909090909091, PPG: 1.11)\n",
      "Predicted: (Name:Aleksander Barkov, Age:25.0, FPPG: 10.828, PPG: 1.16)\n",
      "Predicted: (Name:Patrick Kane, Age:32.0, FPPG: 9.123214285714285, PPG: 1.18)\n",
      "Predicted: (Name:Alex DeBrincat, Age:23.0, FPPG: 9.451923076923077, PPG: 1.08)\n",
      "Predicted: (Name:Jake Guentzel, Age:26.0, FPPG: 8.623214285714285, PPG: 1.02)\n",
      "Predicted: (Name:Brad Marchand3, Age:32.0, FPPG: 10.59811320754717, PPG: 1.3)\n",
      "Predicted: (Name:David Pastrnak, Age:24.0, FPPG: 9.404166666666667, PPG: 1.0)\n",
      "Predicted: (Name:Artemi Panarin, Age:29.0, FPPG: 10.295238095238094, PPG: 1.38)\n",
      "Predicted: (Name:Mitch Marner, Age:23.0, FPPG: 10.17090909090909, PPG: 1.22)\n",
      "Predicted: (Name:Auston Matthews, Age:23.0, FPPG: 12.707692307692307, PPG: 1.27)\n",
      "Predicted: (Name:Connor McDavid, Age:24.0, FPPG: 14.392857142857142, PPG: 1.88)\n",
      "Predicted: (Name:Leon Draisaitl, Age:25.0, FPPG: 12.200000000000001, PPG: 1.5)\n",
      "Predicted: (Name:Mark Scheifele, Age:27.0, FPPG: 8.417857142857143, PPG: 1.13)\n",
      "Predicted: (Name:Kyle Connor, Age:24.0, FPPG: 7.810714285714285, PPG: 0.89)\n",
      "Predicted: (Name:Nikolaj Ehlers, Age:24.0, FPPG: 9.089361702127661, PPG: 0.98)\n",
      "Predicted: (Name:Mikko Rantanen, Age:24.0, FPPG: 11.75576923076923, PPG: 1.27)\n",
      "Predicted: (Name:Nathan MacKinnon, Age:25.0, FPPG: 12.383333333333333, PPG: 1.35)\n",
      "Predicted: (Name:Cale Makar, Age:22.0, FPPG: 9.081818181818182, PPG: 1.0)\n",
      "Predicted: (Name:Mark Stone, Age:28.0, FPPG: 8.967272727272727, PPG: 1.11)\n"
     ]
    }
   ],
   "source": [
    "# MLP model prediction\n",
    "mlp_pred=mlp_reg.predict(X2022)\n",
    "indices=[]\n",
    "vals=[]\n",
    "for j in list(np.sort(mlp_pred)[-20:]):\n",
    "    indices.append(np.where(mlp_pred==j)[0])\n",
    "    vals.append(j)\n",
    "top10=np.unique(np.concatenate(indices))\n",
    "pair=[]\n",
    "for i,j in enumerate(top10):\n",
    "    pair.append((j, vals[i]))\n",
    "display(pair)\n",
    "for j in Sort_Tuple(pair):\n",
    "    ind=j[0]\n",
    "    print(f'Predicted: (Name:{all2022.loc[ind,0]}, Age:{all2022.loc[ind,3]}, FPPG: {all2022.loc[ind,1]}, PPG: {all2022.loc[ind,5]})')"
   ]
  },
  {
   "cell_type": "code",
   "execution_count": 20,
   "id": "7b19e8b7",
   "metadata": {
    "scrolled": true
   },
   "outputs": [
    {
     "data": {
      "text/plain": [
       "[(0, 0.9021257),\n",
       " (21, 0.90276873),\n",
       " (22, 0.9031971),\n",
       " (107, 0.90833604),\n",
       " (108, 0.90911996),\n",
       " (175, 0.914527),\n",
       " (216, 0.92364895),\n",
       " (218, 0.9292392),\n",
       " (262, 0.96520317),\n",
       " (336, 0.970299),\n",
       " (337, 0.9727068),\n",
       " (357, 0.9760645),\n",
       " (358, 0.98298645),\n",
       " (379, 0.99252605),\n",
       " (380, 0.99483156),\n",
       " (381, 0.9954746),\n",
       " (470, 0.99580073),\n",
       " (471, 0.9978205),\n",
       " (474, 0.99878705),\n",
       " (491, 0.9996168)]"
      ]
     },
     "metadata": {},
     "output_type": "display_data"
    },
    {
     "name": "stdout",
     "output_type": "stream",
     "text": [
      "Predicted: (Name:Sebastian Aho, Age:23.0, FPPG: 8.967857142857143, PPG: 1.02)\n",
      "Predicted: (Name:Jonathan Huberdeau, Age:27.0, FPPG: 8.66909090909091, PPG: 1.11)\n",
      "Predicted: (Name:Aleksander Barkov, Age:25.0, FPPG: 10.828, PPG: 1.16)\n",
      "Predicted: (Name:Patrick Kane, Age:32.0, FPPG: 9.123214285714285, PPG: 1.18)\n",
      "Predicted: (Name:Alex DeBrincat, Age:23.0, FPPG: 9.451923076923077, PPG: 1.08)\n",
      "Predicted: (Name:Jake Guentzel, Age:26.0, FPPG: 8.623214285714285, PPG: 1.02)\n",
      "Predicted: (Name:Brad Marchand3, Age:32.0, FPPG: 10.59811320754717, PPG: 1.3)\n",
      "Predicted: (Name:David Pastrnak, Age:24.0, FPPG: 9.404166666666667, PPG: 1.0)\n",
      "Predicted: (Name:Artemi Panarin, Age:29.0, FPPG: 10.295238095238094, PPG: 1.38)\n",
      "Predicted: (Name:Mitch Marner, Age:23.0, FPPG: 10.17090909090909, PPG: 1.22)\n",
      "Predicted: (Name:Auston Matthews, Age:23.0, FPPG: 12.707692307692307, PPG: 1.27)\n",
      "Predicted: (Name:Connor McDavid, Age:24.0, FPPG: 14.392857142857142, PPG: 1.88)\n",
      "Predicted: (Name:Leon Draisaitl, Age:25.0, FPPG: 12.200000000000001, PPG: 1.5)\n",
      "Predicted: (Name:Mark Scheifele, Age:27.0, FPPG: 8.417857142857143, PPG: 1.13)\n",
      "Predicted: (Name:Kyle Connor, Age:24.0, FPPG: 7.810714285714285, PPG: 0.89)\n",
      "Predicted: (Name:Nikolaj Ehlers, Age:24.0, FPPG: 9.089361702127661, PPG: 0.98)\n",
      "Predicted: (Name:Mikko Rantanen, Age:24.0, FPPG: 11.75576923076923, PPG: 1.27)\n",
      "Predicted: (Name:Nathan MacKinnon, Age:25.0, FPPG: 12.383333333333333, PPG: 1.35)\n",
      "Predicted: (Name:Cale Makar, Age:22.0, FPPG: 9.081818181818182, PPG: 1.0)\n",
      "Predicted: (Name:Mark Stone, Age:28.0, FPPG: 8.967272727272727, PPG: 1.11)\n"
     ]
    }
   ],
   "source": [
    "# keras model prediction\n",
    "keras_pred=model.predict(tf.convert_to_tensor(X2022, np.float64))\n",
    "indices=[]\n",
    "vals=[]\n",
    "for j in list(np.sort(keras_pred.flatten())[-20:]):\n",
    "    indices.append(np.where(keras_pred==j)[0])\n",
    "    vals.append(j)\n",
    "top10=np.unique(np.concatenate(indices))\n",
    "pair=[]\n",
    "for i,j in enumerate(top10):\n",
    "    pair.append((j, vals[i]))\n",
    "display(pair)\n",
    "for j in Sort_Tuple(pair):\n",
    "    ind=j[0]\n",
    "    print(f'Predicted: (Name:{all2022.loc[ind,0]}, Age:{all2022.loc[ind,3]}, FPPG: {all2022.loc[ind,1]}, PPG: {all2022.loc[ind,5]})')"
   ]
  },
  {
   "cell_type": "markdown",
   "id": "255cd118",
   "metadata": {},
   "source": [
    "# Model Fit -- FPPG"
   ]
  },
  {
   "cell_type": "code",
   "execution_count": 21,
   "id": "0c67fa0c",
   "metadata": {},
   "outputs": [
    {
     "data": {
      "text/plain": [
       "<function matplotlib.pyplot.show(close=None, block=None)>"
      ]
     },
     "execution_count": 21,
     "metadata": {},
     "output_type": "execute_result"
    },
    {
     "data": {
      "image/png": "[encoded data removed]",
      "text/plain": [
       "<Figure size 432x288 with 1 Axes>"
      ]
     },
     "metadata": {
      "needs_background": "light"
     },
     "output_type": "display_data"
    }
   ],
   "source": [
    "plt.scatter(fitData[1], fitData['Target FPPG'])\n",
    "plt.xlabel(\"Current year FPPG\")\n",
    "plt.ylabel(\"True next year FPPG\")\n",
    "plt.show"
   ]
  },
  {
   "cell_type": "markdown",
   "id": "087369f4",
   "metadata": {},
   "source": [
    "Relation appears to be less linear"
   ]
  },
  {
   "cell_type": "code",
   "execution_count": 22,
   "id": "3259fde2",
   "metadata": {},
   "outputs": [
    {
     "name": "stdout",
     "output_type": "stream",
     "text": [
      "MSE: 14.184864186673096\n",
      "RMSE: 3.7662798869272973\n"
     ]
    }
   ],
   "source": [
    "# Regression task: Assume players maintain EXACT same production the next year. Based on figure above, unlikely to work\n",
    "MSE=np.mean((fitData[1]-fitData['Target FPPG'])**2)\n",
    "print(f'MSE: {MSE}')\n",
    "print(f'RMSE: {np.sqrt(MSE)}')"
   ]
  },
  {
   "cell_type": "code",
   "execution_count": 23,
   "id": "2a23dd28",
   "metadata": {},
   "outputs": [],
   "source": [
    "X_train, X_test, y_train, y_test = train_test_split(\n",
    "    fitData.drop('Target PPG',axis=1).drop('Target FPPG',axis=1), fitData['Target FPPG'], test_size=0.15)"
   ]
  },
  {
   "cell_type": "code",
   "execution_count": 24,
   "id": "43711159",
   "metadata": {},
   "outputs": [
    {
     "name": "stdout",
     "output_type": "stream",
     "text": [
      "MSE: 10.700005464860771\n",
      "RMSE: 3.2710862820874613\n"
     ]
    }
   ],
   "source": [
    "# Linear Regression\n",
    "lin_reg = LinearRegression()  \n",
    "lin_reg.fit(X_train, y_train) #training the algorithm\n",
    "lin_res=lin_reg.predict(X_test)\n",
    "print(f'MSE: {metrics.mean_squared_error(lin_res,y_test)}')\n",
    "print(f'RMSE: {np.sqrt(metrics.mean_squared_error(lin_res,y_test))}')"
   ]
  },
  {
   "cell_type": "code",
   "execution_count": 25,
   "id": "7ca614a6",
   "metadata": {},
   "outputs": [
    {
     "name": "stdout",
     "output_type": "stream",
     "text": [
      "MSE: 10.747163576944464\n",
      "RMSE: 3.2782866831539406\n"
     ]
    },
    {
     "data": {
      "text/plain": [
       "[<matplotlib.lines.Line2D at 0x17ed69700>]"
      ]
     },
     "execution_count": 25,
     "metadata": {},
     "output_type": "execute_result"
    },
    {
     "data": {
      "image/png": "[encoded data removed]",
      "text/plain": [
       "<Figure size 432x288 with 1 Axes>"
      ]
     },
     "metadata": {
      "needs_background": "light"
     },
     "output_type": "display_data"
    }
   ],
   "source": [
    "mlp_reg = MLPRegressor(hidden_layer_sizes=(512,256,128,64,64,32,16),activation=\"relu\", solver='adam', learning_rate='adaptive' ,random_state=1, max_iter=3000).fit(X_train, y_train)\n",
    "mlp_res=mlp_reg.predict(X_test)\n",
    "print(f'MSE: {metrics.mean_squared_error(mlp_res,y_test)}')\n",
    "print(f'RMSE: {np.sqrt(metrics.mean_squared_error(mlp_res,y_test))}')\n",
    "plt.plot(mlp_reg.loss_curve_)"
   ]
  },
  {
   "cell_type": "code",
   "execution_count": 27,
   "id": "772594b0",
   "metadata": {
    "scrolled": true
   },
   "outputs": [
    {
     "name": "stdout",
     "output_type": "stream",
     "text": [
      "Epoch 1/40\n",
      "28/28 [==============================] - 0s 3ms/step - loss: 43.8863 - val_loss: 45.0100\n",
      "Epoch 2/40\n",
      "28/28 [==============================] - 0s 2ms/step - loss: 43.8230 - val_loss: 45.0100\n",
      "Epoch 3/40\n",
      "28/28 [==============================] - 0s 2ms/step - loss: 43.8230 - val_loss: 45.0100\n",
      "Epoch 4/40\n",
      "28/28 [==============================] - 0s 2ms/step - loss: 43.8230 - val_loss: 45.0100\n",
      "Epoch 5/40\n",
      "28/28 [==============================] - 0s 2ms/step - loss: 43.8230 - val_loss: 45.0100\n",
      "Epoch 6/40\n",
      "28/28 [==============================] - 0s 2ms/step - loss: 43.8230 - val_loss: 45.0100\n",
      "Epoch 7/40\n",
      "28/28 [==============================] - 0s 2ms/step - loss: 43.8230 - val_loss: 45.0100\n",
      "Epoch 8/40\n",
      "28/28 [==============================] - 0s 2ms/step - loss: 43.8230 - val_loss: 45.0100\n",
      "Epoch 9/40\n",
      "28/28 [==============================] - 0s 2ms/step - loss: 43.8230 - val_loss: 45.0100\n",
      "Epoch 10/40\n",
      "28/28 [==============================] - 0s 2ms/step - loss: 43.8230 - val_loss: 45.0100\n",
      "Epoch 11/40\n",
      "28/28 [==============================] - 0s 2ms/step - loss: 43.8230 - val_loss: 45.0100\n",
      "Epoch 12/40\n",
      "28/28 [==============================] - 0s 2ms/step - loss: 43.8230 - val_loss: 45.0100\n",
      "Epoch 13/40\n",
      "28/28 [==============================] - 0s 2ms/step - loss: 43.8230 - val_loss: 45.0100\n",
      "Epoch 14/40\n",
      "28/28 [==============================] - 0s 2ms/step - loss: 43.8230 - val_loss: 45.0100\n",
      "Epoch 15/40\n",
      "28/28 [==============================] - 0s 2ms/step - loss: 43.8230 - val_loss: 45.0100\n",
      "Epoch 16/40\n",
      "28/28 [==============================] - 0s 2ms/step - loss: 43.8230 - val_loss: 45.0100\n",
      "Epoch 17/40\n",
      "28/28 [==============================] - 0s 2ms/step - loss: 43.8230 - val_loss: 45.0100\n",
      "Epoch 18/40\n",
      "28/28 [==============================] - 0s 2ms/step - loss: 43.8230 - val_loss: 45.0100\n",
      "Epoch 19/40\n",
      "28/28 [==============================] - 0s 2ms/step - loss: 43.8230 - val_loss: 45.0100\n",
      "Epoch 20/40\n",
      "28/28 [==============================] - 0s 2ms/step - loss: 43.8230 - val_loss: 45.0100\n",
      "Epoch 21/40\n",
      "28/28 [==============================] - 0s 2ms/step - loss: 43.8230 - val_loss: 45.0100\n",
      "Epoch 22/40\n",
      "28/28 [==============================] - 0s 2ms/step - loss: 43.8230 - val_loss: 45.0100\n",
      "Epoch 23/40\n",
      "28/28 [==============================] - 0s 2ms/step - loss: 43.8230 - val_loss: 45.0100\n",
      "Epoch 24/40\n",
      "28/28 [==============================] - 0s 2ms/step - loss: 43.8230 - val_loss: 45.0100\n",
      "Epoch 25/40\n",
      "28/28 [==============================] - 0s 2ms/step - loss: 43.8230 - val_loss: 45.0100\n",
      "Epoch 26/40\n",
      "28/28 [==============================] - 0s 2ms/step - loss: 43.8230 - val_loss: 45.0100\n",
      "Epoch 27/40\n",
      "28/28 [==============================] - 0s 2ms/step - loss: 43.8230 - val_loss: 45.0100\n",
      "Epoch 28/40\n",
      "28/28 [==============================] - 0s 2ms/step - loss: 43.8230 - val_loss: 45.0100\n",
      "Epoch 29/40\n",
      "28/28 [==============================] - 0s 3ms/step - loss: 43.8230 - val_loss: 45.0100\n",
      "Epoch 30/40\n",
      "28/28 [==============================] - 0s 3ms/step - loss: 43.8230 - val_loss: 45.0100\n",
      "Epoch 31/40\n",
      "28/28 [==============================] - 0s 2ms/step - loss: 43.8230 - val_loss: 45.0100\n",
      "Epoch 32/40\n",
      "28/28 [==============================] - 0s 2ms/step - loss: 43.8230 - val_loss: 45.0100\n",
      "Epoch 33/40\n",
      "28/28 [==============================] - 0s 2ms/step - loss: 43.8230 - val_loss: 45.0100\n",
      "Epoch 34/40\n",
      "28/28 [==============================] - 0s 2ms/step - loss: 43.8230 - val_loss: 45.0100\n",
      "Epoch 35/40\n",
      "28/28 [==============================] - 0s 3ms/step - loss: 43.8230 - val_loss: 45.0100\n",
      "Epoch 36/40\n",
      "28/28 [==============================] - 0s 2ms/step - loss: 43.8230 - val_loss: 45.0100\n",
      "Epoch 37/40\n",
      "28/28 [==============================] - 0s 2ms/step - loss: 43.8230 - val_loss: 45.0100\n",
      "Epoch 38/40\n",
      "28/28 [==============================] - 0s 3ms/step - loss: 43.8230 - val_loss: 45.0100\n",
      "Epoch 39/40\n",
      "28/28 [==============================] - 0s 2ms/step - loss: 43.8230 - val_loss: 45.0100\n",
      "Epoch 40/40\n",
      "28/28 [==============================] - 0s 2ms/step - loss: 43.8230 - val_loss: 45.0100\n"
     ]
    },
    {
     "data": {
      "text/plain": [
       "<function matplotlib.pyplot.show(close=None, block=None)>"
      ]
     },
     "execution_count": 27,
     "metadata": {},
     "output_type": "execute_result"
    },
    {
     "data": {
      "image/png": "[encoded data removed]",
      "text/plain": [
       "<Figure size 432x288 with 1 Axes>"
      ]
     },
     "metadata": {
      "needs_background": "light"
     },
     "output_type": "display_data"
    }
   ],
   "source": [
    "model = Sequential()\n",
    "model.add(Dense(256, input_dim=24, activation='relu'))\n",
    "model.add(Dense(128, activation='relu'))\n",
    "model.add(Dense(64, activation='relu'))\n",
    "model.add(Dense(64, activation='relu'))\n",
    "model.add(Dense(32, activation='relu'))\n",
    "model.add(Dense(16, activation='relu'))\n",
    "model.add(Dense(1, activation='sigmoid'))\n",
    "model.compile(loss='mse', optimizer='adam')\n",
    "history=model.fit(tf.convert_to_tensor(X_train, np.float64), tf.convert_to_tensor(y_train, np.float64), \n",
    "                  epochs=40, batch_size=200,\n",
    "                  validation_data=(tf.convert_to_tensor(X_test, np.float64), tf.convert_to_tensor(y_test, np.float64)) )\n",
    "#Plot loss\n",
    "plt.plot(history.history['loss'] )\n",
    "plt.plot(history.history['val_loss'] )\n",
    "plt.show"
   ]
  },
  {
   "cell_type": "code",
   "execution_count": 28,
   "id": "461c8cb0",
   "metadata": {},
   "outputs": [],
   "source": [
    "# Import data for 2022 to test as target\n",
    "# Target columns are meaningless since we didn't collect 2022 season data.\n",
    "# One should consult current daily stats to compare\n",
    "dill_file = open(\"all_data_min_test\", \"rb\")\n",
    "all2022 = dill.load(dill_file)\n",
    "dill_file.close()\n",
    "all2022.index=range(len(all2022.index))\n",
    "all2022=all2022.fillna(0)\n",
    "X2022=all2022.drop('Target FPPG', axis=1).drop('Target PPG', axis=1).drop(0, axis=1)"
   ]
  },
  {
   "cell_type": "code",
   "execution_count": 29,
   "id": "75c369a9",
   "metadata": {
    "scrolled": true
   },
   "outputs": [
    {
     "data": {
      "text/plain": [
       "[(3, 11.251953125),\n",
       " (22, 11.38330078125),\n",
       " (63, 11.53955078125),\n",
       " (107, 11.65234375),\n",
       " (174, 11.794921875),\n",
       " (198, 11.81298828125),\n",
       " (200, 11.8310546875),\n",
       " (216, 11.900390625),\n",
       " (218, 12.0888671875),\n",
       " (262, 12.10205078125),\n",
       " (263, 12.361328125),\n",
       " (322, 12.3935546875),\n",
       " (336, 12.42919921875),\n",
       " (337, 12.82373046875),\n",
       " (357, 13.13134765625),\n",
       " (358, 13.1455078125),\n",
       " (381, 13.791015625),\n",
       " (470, 14.88037109375),\n",
       " (471, 14.97607421875),\n",
       " (492, 16.10302734375)]"
      ]
     },
     "metadata": {},
     "output_type": "display_data"
    },
    {
     "name": "stdout",
     "output_type": "stream",
     "text": [
      "Predicted: (Name:Dougie Hamilton, Age:27.0, FPPG: 8.909090909090908, PPG: 0.76)\n",
      "Predicted: (Name:Aleksander Barkov, Age:25.0, FPPG: 10.828, PPG: 1.16)\n",
      "Predicted: (Name:Roman Josi, Age:30.0, FPPG: 7.58125, PPG: 0.69)\n",
      "Predicted: (Name:Patrick Kane, Age:32.0, FPPG: 9.123214285714285, PPG: 1.18)\n",
      "Predicted: (Name:Sidney Crosby, Age:33.0, FPPG: 9.583636363636364, PPG: 1.13)\n",
      "Predicted: (Name:John Carlson, Age:31.0, FPPG: 7.696153846153846, PPG: 0.85)\n",
      "Predicted: (Name:Alex Ovechkin, Age:35.0, FPPG: 9.395555555555555, PPG: 0.93)\n",
      "Predicted: (Name:Brad Marchand3, Age:32.0, FPPG: 10.59811320754717, PPG: 1.3)\n",
      "Predicted: (Name:David Pastrnak, Age:24.0, FPPG: 9.404166666666667, PPG: 1.0)\n",
      "Predicted: (Name:Artemi Panarin, Age:29.0, FPPG: 10.295238095238094, PPG: 1.38)\n",
      "Predicted: (Name:Mika Zibanejad, Age:27.0, FPPG: 8.533928571428572, PPG: 0.89)\n",
      "Predicted: (Name:Jack Eichel, Age:24.0, FPPG: 6.947619047619048, PPG: 0.86)\n",
      "Predicted: (Name:Mitch Marner, Age:23.0, FPPG: 10.17090909090909, PPG: 1.22)\n",
      "Predicted: (Name:Auston Matthews, Age:23.0, FPPG: 12.707692307692307, PPG: 1.27)\n",
      "Predicted: (Name:Connor McDavid, Age:24.0, FPPG: 14.392857142857142, PPG: 1.88)\n",
      "Predicted: (Name:Leon Draisaitl, Age:25.0, FPPG: 12.200000000000001, PPG: 1.5)\n",
      "Predicted: (Name:Nikolaj Ehlers, Age:24.0, FPPG: 9.089361702127661, PPG: 0.98)\n",
      "Predicted: (Name:Mikko Rantanen, Age:24.0, FPPG: 11.75576923076923, PPG: 1.27)\n",
      "Predicted: (Name:Nathan MacKinnon, Age:25.0, FPPG: 12.383333333333333, PPG: 1.35)\n",
      "Predicted: (Name:Max Pacioretty, Age:32.0, FPPG: 10.450000000000001, PPG: 1.06)\n"
     ]
    }
   ],
   "source": [
    "# Linear model prediction\n",
    "lin_pred=lin_reg.predict(X2022)\n",
    "indices=[]\n",
    "vals=[]\n",
    "for j in list(np.sort(lin_pred)[-20:]):\n",
    "    indices.append(np.where(lin_pred==j)[0])\n",
    "    vals.append(j)\n",
    "top10=np.unique(np.concatenate(indices))\n",
    "pair=[]\n",
    "for i,j in enumerate(top10):\n",
    "    pair.append((j, vals[i]))\n",
    "display(pair)\n",
    "for j in Sort_Tuple(pair):\n",
    "    ind=j[0]\n",
    "    print(f'Predicted: (Name:{all2022.loc[ind,0]}, Age:{all2022.loc[ind,3]}, FPPG: {all2022.loc[ind,1]}, PPG: {all2022.loc[ind,5]})')"
   ]
  },
  {
   "cell_type": "code",
   "execution_count": 30,
   "id": "08fcc761",
   "metadata": {
    "scrolled": true
   },
   "outputs": [
    {
     "data": {
      "text/plain": [
       "[(0, 10.921748030427203),\n",
       " (3, 10.960843185042167),\n",
       " (22, 11.051641735357476),\n",
       " (63, 11.214322378525441),\n",
       " (107, 11.228572022972628),\n",
       " (108, 11.296685262683111),\n",
       " (200, 11.350320872304806),\n",
       " (216, 11.423123759216555),\n",
       " (218, 11.621950663011019),\n",
       " (262, 11.932124951959995),\n",
       " (263, 12.0199236552308),\n",
       " (336, 12.160823830001402),\n",
       " (337, 12.928295603737993),\n",
       " (357, 14.02834236547893),\n",
       " (358, 14.825226480771336),\n",
       " (381, 17.528957787998507),\n",
       " (470, 19.146638049511672),\n",
       " (471, 20.277974801793704),\n",
       " (474, 21.978357780105238),\n",
       " (492, 27.453032047710966)]"
      ]
     },
     "metadata": {},
     "output_type": "display_data"
    },
    {
     "name": "stdout",
     "output_type": "stream",
     "text": [
      "Predicted: (Name:Sebastian Aho, Age:23.0, FPPG: 8.967857142857143, PPG: 1.02)\n",
      "Predicted: (Name:Dougie Hamilton, Age:27.0, FPPG: 8.909090909090908, PPG: 0.76)\n",
      "Predicted: (Name:Aleksander Barkov, Age:25.0, FPPG: 10.828, PPG: 1.16)\n",
      "Predicted: (Name:Roman Josi, Age:30.0, FPPG: 7.58125, PPG: 0.69)\n",
      "Predicted: (Name:Patrick Kane, Age:32.0, FPPG: 9.123214285714285, PPG: 1.18)\n",
      "Predicted: (Name:Alex DeBrincat, Age:23.0, FPPG: 9.451923076923077, PPG: 1.08)\n",
      "Predicted: (Name:Alex Ovechkin, Age:35.0, FPPG: 9.395555555555555, PPG: 0.93)\n",
      "Predicted: (Name:Brad Marchand3, Age:32.0, FPPG: 10.59811320754717, PPG: 1.3)\n",
      "Predicted: (Name:David Pastrnak, Age:24.0, FPPG: 9.404166666666667, PPG: 1.0)\n",
      "Predicted: (Name:Artemi Panarin, Age:29.0, FPPG: 10.295238095238094, PPG: 1.38)\n",
      "Predicted: (Name:Mika Zibanejad, Age:27.0, FPPG: 8.533928571428572, PPG: 0.89)\n",
      "Predicted: (Name:Mitch Marner, Age:23.0, FPPG: 10.17090909090909, PPG: 1.22)\n",
      "Predicted: (Name:Auston Matthews, Age:23.0, FPPG: 12.707692307692307, PPG: 1.27)\n",
      "Predicted: (Name:Connor McDavid, Age:24.0, FPPG: 14.392857142857142, PPG: 1.88)\n",
      "Predicted: (Name:Leon Draisaitl, Age:25.0, FPPG: 12.200000000000001, PPG: 1.5)\n",
      "Predicted: (Name:Nikolaj Ehlers, Age:24.0, FPPG: 9.089361702127661, PPG: 0.98)\n",
      "Predicted: (Name:Mikko Rantanen, Age:24.0, FPPG: 11.75576923076923, PPG: 1.27)\n",
      "Predicted: (Name:Nathan MacKinnon, Age:25.0, FPPG: 12.383333333333333, PPG: 1.35)\n",
      "Predicted: (Name:Cale Makar, Age:22.0, FPPG: 9.081818181818182, PPG: 1.0)\n",
      "Predicted: (Name:Max Pacioretty, Age:32.0, FPPG: 10.450000000000001, PPG: 1.06)\n"
     ]
    }
   ],
   "source": [
    "# MLP model prediction\n",
    "mlp_pred=mlp_reg.predict(X2022)\n",
    "indices=[]\n",
    "vals=[]\n",
    "for j in list(np.sort(mlp_pred)[-20:]):\n",
    "    indices.append(np.where(mlp_pred==j)[0])\n",
    "    vals.append(j)\n",
    "top10=np.unique(np.concatenate(indices))\n",
    "pair=[]\n",
    "for i,j in enumerate(top10):\n",
    "    pair.append((j, vals[i]))\n",
    "display(pair)\n",
    "for j in Sort_Tuple(pair):\n",
    "    ind=j[0]\n",
    "    print(f'Predicted: (Name:{all2022.loc[ind,0]}, Age:{all2022.loc[ind,3]}, FPPG: {all2022.loc[ind,1]}, PPG: {all2022.loc[ind,5]})')"
   ]
  },
  {
   "cell_type": "code",
   "execution_count": null,
   "id": "d0996890",
   "metadata": {},
   "outputs": [],
   "source": []
  }
 ],
 "metadata": {
  "kernelspec": {
   "display_name": "Python 3 (ipykernel)",
   "language": "python",
   "name": "python3"
  },
  "language_info": {
   "codemirror_mode": {
    "name": "ipython",
    "version": 3
   },
   "file_extension": ".py",
   "mimetype": "text/x-python",
   "name": "python",
   "nbconvert_exporter": "python",
   "pygments_lexer": "ipython3",
   "version": "3.9.9"
  }
 },
 "nbformat": 4,
 "nbformat_minor": 5
}
